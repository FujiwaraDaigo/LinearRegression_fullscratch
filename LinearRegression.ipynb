{
 "cells": [
  {
   "cell_type": "markdown",
   "metadata": {},
   "source": [
    "# Linear Regression Hand Implementation\n",
    "\n",
    "## Fujiwara Daigo 6930-31-6255\n",
    "\n",
    "\n",
    "\n",
    "## About The Data\n",
    "I used \"Energy efficiency Data Set\" from UCI Machine Learning Repository ( https://archive.ics.uci.edu/ml/datasets/Energy+efficiency )\n",
    "\n",
    "Explanation about the data is,\n",
    "\n",
    "\n",
    "### Data Set Information:\n",
    "\n",
    "\"We perform energy analysis using 12 different building shapes simulated in Ecotect. The buildings differ with respect to the glazing area, the glazing area distribution, and the orientation, amongst other parameters. We simulate various settings as functions of the afore-mentioned characteristics to obtain 768 building shapes. The dataset comprises 768 samples and 8 features, aiming to predict two real valued responses. It can also be used as a multi-class classification problem if the response is rounded to the nearest integer.\"\n",
    "\n",
    "\n",
    "and, this data's  feature values (or variable, attributes) is like that\n",
    "\n",
    "\n",
    "### Attribute Information:\n",
    "\n",
    "\"The dataset contains eight attributes (or features, denoted by X1...X8) and two responses (or outcomes, denoted by y1 and y2). The aim is to use the eight features to predict each of the two responses. \"\n",
    "\n",
    "\"Specifically: \n",
    "X1\tRelative Compactness \n",
    "X2\tSurface Area \n",
    "X3\tWall Area \n",
    "X4\tRoof Area \n",
    "X5\tOverall Height \n",
    "X6\tOrientation \n",
    "X7\tGlazing Area \n",
    "X8\tGlazing Area Distribution \n",
    "y1\tHeating Load \n",
    "y2\tCooling Load\"\n",
    "\n",
    "\n",
    "\n",
    "## Purpose of The Report\n",
    "\n",
    " <span style=\"color: red; \">I used X1~X8 as observation value, and predict y1 and y2 from them by linear regression.</span>\n",
    "    \n",
    "this data set have 768 samples.\n",
    "I use 80% of them for fitting, 20% of them varidation and test.\n",
    "\n",
    "At first, I get the data as DataFrame object using pandas, and I will show  how the data is like."
   ]
  },
  {
   "cell_type": "code",
   "execution_count": 1,
   "metadata": {},
   "outputs": [],
   "source": [
    "import pandas as pd\n",
    "import matplotlib.pyplot as plt\n",
    "import seaborn as sns\n",
    "import numpy as np\n",
    "import warnings\n",
    "warnings.simplefilter(action='ignore', category=FutureWarning)"
   ]
  },
  {
   "cell_type": "code",
   "execution_count": 2,
   "metadata": {},
   "outputs": [
    {
     "data": {
      "text/html": [
       "<div>\n",
       "<style scoped>\n",
       "    .dataframe tbody tr th:only-of-type {\n",
       "        vertical-align: middle;\n",
       "    }\n",
       "\n",
       "    .dataframe tbody tr th {\n",
       "        vertical-align: top;\n",
       "    }\n",
       "\n",
       "    .dataframe thead th {\n",
       "        text-align: right;\n",
       "    }\n",
       "</style>\n",
       "<table border=\"1\" class=\"dataframe\">\n",
       "  <thead>\n",
       "    <tr style=\"text-align: right;\">\n",
       "      <th></th>\n",
       "      <th>X1</th>\n",
       "      <th>X2</th>\n",
       "      <th>X3</th>\n",
       "      <th>X4</th>\n",
       "      <th>X5</th>\n",
       "      <th>X6</th>\n",
       "      <th>X7</th>\n",
       "      <th>X8</th>\n",
       "      <th>Y1</th>\n",
       "      <th>Y2</th>\n",
       "    </tr>\n",
       "  </thead>\n",
       "  <tbody>\n",
       "    <tr>\n",
       "      <th>0</th>\n",
       "      <td>0.98</td>\n",
       "      <td>514.5</td>\n",
       "      <td>294.0</td>\n",
       "      <td>110.25</td>\n",
       "      <td>7.0</td>\n",
       "      <td>2</td>\n",
       "      <td>0.0</td>\n",
       "      <td>0</td>\n",
       "      <td>15.55</td>\n",
       "      <td>21.33</td>\n",
       "    </tr>\n",
       "    <tr>\n",
       "      <th>1</th>\n",
       "      <td>0.98</td>\n",
       "      <td>514.5</td>\n",
       "      <td>294.0</td>\n",
       "      <td>110.25</td>\n",
       "      <td>7.0</td>\n",
       "      <td>3</td>\n",
       "      <td>0.0</td>\n",
       "      <td>0</td>\n",
       "      <td>15.55</td>\n",
       "      <td>21.33</td>\n",
       "    </tr>\n",
       "    <tr>\n",
       "      <th>2</th>\n",
       "      <td>0.98</td>\n",
       "      <td>514.5</td>\n",
       "      <td>294.0</td>\n",
       "      <td>110.25</td>\n",
       "      <td>7.0</td>\n",
       "      <td>4</td>\n",
       "      <td>0.0</td>\n",
       "      <td>0</td>\n",
       "      <td>15.55</td>\n",
       "      <td>21.33</td>\n",
       "    </tr>\n",
       "    <tr>\n",
       "      <th>3</th>\n",
       "      <td>0.98</td>\n",
       "      <td>514.5</td>\n",
       "      <td>294.0</td>\n",
       "      <td>110.25</td>\n",
       "      <td>7.0</td>\n",
       "      <td>5</td>\n",
       "      <td>0.0</td>\n",
       "      <td>0</td>\n",
       "      <td>15.55</td>\n",
       "      <td>21.33</td>\n",
       "    </tr>\n",
       "    <tr>\n",
       "      <th>4</th>\n",
       "      <td>0.90</td>\n",
       "      <td>563.5</td>\n",
       "      <td>318.5</td>\n",
       "      <td>122.50</td>\n",
       "      <td>7.0</td>\n",
       "      <td>2</td>\n",
       "      <td>0.0</td>\n",
       "      <td>0</td>\n",
       "      <td>20.84</td>\n",
       "      <td>28.28</td>\n",
       "    </tr>\n",
       "  </tbody>\n",
       "</table>\n",
       "</div>"
      ],
      "text/plain": [
       "     X1     X2     X3      X4   X5  X6   X7  X8     Y1     Y2\n",
       "0  0.98  514.5  294.0  110.25  7.0   2  0.0   0  15.55  21.33\n",
       "1  0.98  514.5  294.0  110.25  7.0   3  0.0   0  15.55  21.33\n",
       "2  0.98  514.5  294.0  110.25  7.0   4  0.0   0  15.55  21.33\n",
       "3  0.98  514.5  294.0  110.25  7.0   5  0.0   0  15.55  21.33\n",
       "4  0.90  563.5  318.5  122.50  7.0   2  0.0   0  20.84  28.28"
      ]
     },
     "execution_count": 2,
     "metadata": {},
     "output_type": "execute_result"
    }
   ],
   "source": [
    "import pandas as pd\n",
    "book = pd.ExcelFile(\"/Users/daigofujiwara/Documents/授業資料/パターン認識特論/ENB2012_data.xlsx\")\n",
    "df = book.parse(\"Sheet1\", header=0)\n",
    "df.head()"
   ]
  },
  {
   "cell_type": "markdown",
   "metadata": {},
   "source": [
    "The data is just like this. Next I explain about Linear Regression with math and show the code."
   ]
  },
  {
   "cell_type": "markdown",
   "metadata": {},
   "source": [
    "# About Linear Regression\n",
    "\n",
    "Using an input (feature) D-dimenssional vector sample\n",
    "$$\\boldsymbol{x}_i = ( x_1, x_2,...,x_D)^{\\mathrm{T}}(i=1,\\ldots,N)$$\n",
    "\n",
    "General regression model is writen in,\n",
    "$$y(x, w)=\\sum_{j=0}^{M-1} \\boldsymbol{w}_{j} \\phi_{j}(x)=\\boldsymbol{w}^{\\top} \\boldsymbol{\\phi(x)}$$\n",
    "\n",
    "where,\n",
    "$$\\boldsymbol{w}=\\left(w_{0}, \\ldots, w_{M-1}\\right)^{\\top}, \\boldsymbol{\\phi}=\\left(\\phi_{0}, . ., \\phi_{M-1}\\right)^{\\mathrm{T}}, \\text { and } \\phi_{0}(\\boldsymbol{x})=1$$\n",
    "\n",
    "now, I  use $m$ dimessional <span style=\"color: red; \"> polynomial basis function,</span> \n",
    "    so $\\boldsymbol{\\phi}(\\boldsymbol{x})$ is that\n",
    "    \n",
    "$$\\boldsymbol{\\phi}=\\left(1,x_1,x_1^2 ,\\ldots, x_1^{m},x_2,\\ldots,x_2^{m},x_3,\\ldots,x_D^{m}\\right)^{\\top}$$\n",
    "\n",
    "then, $M=D*m+1$\n",
    "\n",
    "We want to select the model which minimizes Sum of Squared Error (SSE):\n",
    "$$E_{D}(\\boldsymbol{w})=\\frac{1}{2} \\sum_{n=1}^{N}\\left\\{t_{n}-\\boldsymbol{w}^{\\top} \\boldsymbol{\\phi}\\left(\\boldsymbol{x}_{n}\\right)\\right\\}^{2}$$\n",
    "\n",
    "the $\\boldsymbol{w}_{ML}$ which minimize $E_D$ can be solved analytically, like this.\n",
    "$$\n",
    "\\begin{aligned} w_{\\mathrm{ML}} &=\\underset{w}{\\arg \\min } \\frac{1}{2} \\sum_{n=1}^{N}\\left\\{t_{n}-\\boldsymbol{w}^{\\top} \\boldsymbol{\\phi}\\left(\\boldsymbol{x}_{n}\\right)\\right\\}^{2} \\\\ 0 &=\\nabla_\\boldsymbol{w} E_D(\\boldsymbol{w}) \\\\ &=\\sum_{n=1}^{N}\\left\\{t_{n}-\\boldsymbol{w}^{\\top} \\boldsymbol{\\phi}\\left(\\boldsymbol{x}_{n}\\right)\\right\\} \\boldsymbol{\\phi}\\left(\\boldsymbol{x}_{n}\\right)^{\\top} \\\\ \\boldsymbol{w}_{\\mathrm{ML}} &=\\left(\\boldsymbol{\\Phi}^{\\top} \\boldsymbol{\\Phi}\\right)^{-1} \\boldsymbol{\\Phi}^{\\top} \\mathbf{t}=\\boldsymbol{\\Phi}^{\\dagger} \\mathbf{t} \\end{aligned}\n",
    "$$\n",
    "\n",
    "So it can be numerically calculated, this is the code which calculates $\\boldsymbol{w}_{ML}$  and make polynomial basis function."
   ]
  },
  {
   "cell_type": "code",
   "execution_count": 3,
   "metadata": {},
   "outputs": [],
   "source": [
    "class PolynomialBasisFunction:\n",
    "    \n",
    "    def __init__(self,m):\n",
    "        self.m =  m#べき級数の次元\n",
    "        \n",
    "    def getphi(self,x):\n",
    "        self.phi=np.ones(self.m*x.shape[0]+1)\n",
    "        for i in range(x.shape[0]):\n",
    "            for j in range (self.m):\n",
    "                self.phi[i*self.m+j+1]= np.power(x[i], j+1)\n",
    "                \n",
    "        return self.phi\n",
    "                \n",
    "    def getm(self):\n",
    "        return self.m"
   ]
  },
  {
   "cell_type": "code",
   "execution_count": 4,
   "metadata": {},
   "outputs": [],
   "source": [
    "class LinearRegression:\n",
    "    \n",
    "    def __init__(self, basisFunction):\n",
    "        self.basis = basisFunction\n",
    "        self.w = \"NULL\"\n",
    "        \n",
    "    def fittingW(self, X, y):#引数は学習用データ\n",
    "        #計画行列の初期化\n",
    "        designMatrix = np.zeros((X.shape[0], X.shape[1]*self.basis.getm()+1))#X.shape=N:データ数, self.X.shape[1]*basis.getm+1=D*m+1:基底の次元\n",
    "        \n",
    "        for i in range (X.shape[0]):\n",
    "            designMatrix[i] = self.basis.getphi(X[i])\n",
    "            \n",
    "        TransM = designMatrix.T\n",
    "        MultiM=np.dot(TransM,designMatrix)\n",
    "        InvM=np.linalg.inv(MultiM)\n",
    "        \n",
    "        psd_inv = np.dot(InvM, TransM)#擬似逆行列\n",
    "        \n",
    "        self.w = np.dot(psd_inv,y)\n",
    "        return self.w\n",
    "        \n",
    "    def predictY(self, X):#引数はテスト用データ\n",
    "        #計画行列の初期化\n",
    "        designMatrix = np.zeros((X.shape[0], X.shape[1]*self.basis.getm()+1))#X.shape=N:データ数, self.X.shape[1]*basis.getm+1=D*m+1:基底の次元\n",
    "        \n",
    "        for i in range(X.shape[0]):\n",
    "            designMatrix[i] = self.basis.getphi(X[i])\n",
    "            \n",
    "        if self.w == \"NULL\":\n",
    "            print(\"haven't optimized !!\")\n",
    "        \n",
    "        else:\n",
    "            y=np.dot(designMatrix, self.w)\n",
    "            return y\n",
    "        "
   ]
  },
  {
   "cell_type": "markdown",
   "metadata": {},
   "source": [
    "## Analysis and Experiment\n",
    "Using these classess, I tried regression according to dimenssion parameter $m=1$, and $m=2$ . After that I will compare them.  "
   ]
  },
  {
   "cell_type": "markdown",
   "metadata": {},
   "source": [
    "### Analysis and Experiment(m=1)"
   ]
  },
  {
   "cell_type": "code",
   "execution_count": 5,
   "metadata": {},
   "outputs": [],
   "source": [
    "from sklearn.preprocessing import StandardScaler\n",
    "from sklearn.model_selection import train_test_split"
   ]
  },
  {
   "cell_type": "code",
   "execution_count": 6,
   "metadata": {},
   "outputs": [],
   "source": [
    "#dataのnp.arrayとしての取り出し\n",
    "X = df[[\"X1\", \"X2\", \"X3\", \"X4\", \"X5\", \"X6\", \"X7\", \"X8\"]].values\n",
    "Y = df[[\"Y1\",\"Y2\"]].values\n",
    "\n",
    "# 標準化\n",
    "sc_x = StandardScaler()\n",
    "sc_y = StandardScaler()\n",
    "X_std = sc_x.fit_transform(X)\n",
    "Y_std = sc_y.fit_transform(Y)"
   ]
  },
  {
   "cell_type": "code",
   "execution_count": 7,
   "metadata": {},
   "outputs": [
    {
     "data": {
      "text/plain": [
       "array([[-5.42855754e-03,  1.03261296e-03],\n",
       "       [-1.09129452e+00, -1.19242699e+00],\n",
       "       [-1.96446300e+00, -2.21293803e+00],\n",
       "       [ 7.44193409e-01,  7.89699221e-01],\n",
       "       [ 9.43914197e-01,  1.18071216e+00],\n",
       "       [ 7.03358957e-01,  7.94908129e-01],\n",
       "       [-2.31683218e-03,  1.68597622e-02],\n",
       "       [ 2.61549551e-01,  2.10993165e-01],\n",
       "       [ 2.45409712e-02,  3.87468965e-03]])"
      ]
     },
     "execution_count": 7,
     "metadata": {},
     "output_type": "execute_result"
    }
   ],
   "source": [
    "\n",
    "\n",
    "# 学習用データとテスト用データに分割\n",
    "X_train, X_test, Y_train, Y_test = train_test_split(X_std, Y_std, test_size=0.2, random_state=0)\n",
    "\n",
    "#basisFunction\n",
    "basisFunction=PolynomialBasisFunction(1)\n",
    "\n",
    "# regression model \n",
    "regressionModel = LinearRegression(basisFunction)\n",
    "regressionModel.fittingW(X_train, Y_train)"
   ]
  },
  {
   "cell_type": "markdown",
   "metadata": {},
   "source": [
    "this is the optimaized weight $\\boldsymbol{w}_{ML}$.\n",
    "The left colm  is for $y1$, and the other is for $y2$. "
   ]
  },
  {
   "cell_type": "code",
   "execution_count": 8,
   "metadata": {},
   "outputs": [],
   "source": [
    "# predicting\n",
    "Y_train_pred = regressionModel.predictY(X_train)\n",
    "Y_test_pred = regressionModel.predictY(X_test)\n",
    "\n",
    "#標準化を戻す\n",
    "temp=sc_y\n",
    "Y_train = sc_y.inverse_transform(Y_train)\n",
    "sc_y=temp\n",
    "Y_test = sc_y.inverse_transform(Y_test)\n",
    "sc_y=temp\n",
    "Y_train_pred = sc_y.inverse_transform(Y_train_pred)\n",
    "sc_y=temp\n",
    "Y_test_pred = sc_y.inverse_transform(Y_test_pred)\n",
    "\n",
    "\n",
    "y1_train=(Y_train.T[0]).T\n",
    "y2_train=(Y_train.T[1]).T\n",
    "y1_test=(Y_test.T[0]).T\n",
    "y2_test=(Y_test.T[1]).T\n",
    "y1_train_pred=(Y_train_pred.T[0]).T\n",
    "y2_train_pred=(Y_train_pred.T[1]).T\n",
    "y1_test_pred=(Y_test_pred.T[0]).T\n",
    "y2_test_pred=(Y_test_pred.T[1]).T"
   ]
  },
  {
   "cell_type": "markdown",
   "metadata": {},
   "source": [
    "### Evaluation\n",
    "\n",
    "I taked visual evaluation to the accuracy of prediction and quantitative analysis . I will show the plot.\n",
    "As a quantittative analysis, I used Mean Squared Error (MSE).\n",
    "$$MSE = \\frac{1}{n} \\sum_{i=1}^{n} (y^{(i)} - \\hat{y^{(i)}})$$\n",
    "\n",
    "#### y1"
   ]
  },
  {
   "cell_type": "code",
   "execution_count": 9,
   "metadata": {},
   "outputs": [
    {
     "data": {
      "image/png": "[encoded data removed]",
      "text/plain": [
       "<Figure size 432x288 with 1 Axes>"
      ]
     },
     "metadata": {},
     "output_type": "display_data"
    }
   ],
   "source": [
    "sns.set(style=\"whitegrid\", context=\"notebook\")\n",
    "plt.scatter(y1_train_pred, y1_train_pred - y1_train,\n",
    "            c=\"blue\", marker=\"o\", label=\"Training\")\n",
    "plt.scatter(y1_test_pred, y1_test_pred - y1_test,\n",
    "            c=\"lightgreen\", marker=\"s\", label=\"Test\")\n",
    "plt.xlabel(\"Prediced values y1\")\n",
    "plt.ylabel(\"Residuals y1\")\n",
    "plt.legend()\n",
    "plt.hlines(y=0, xmin=0, xmax=50, lw=2, color=\"red\")\n",
    "plt.show()"
   ]
  },
  {
   "cell_type": "code",
   "execution_count": 10,
   "metadata": {},
   "outputs": [
    {
     "name": "stdout",
     "output_type": "stream",
     "text": [
      "MSE train: 10.724, test: 12.517\n"
     ]
    }
   ],
   "source": [
    "from sklearn.metrics import mean_squared_error as mse\n",
    "\n",
    "print(\"MSE train: %.3f, test: %.3f\" % (mse(y1_train, y1_train_pred), mse(y1_test, y1_test_pred)))"
   ]
  },
  {
   "cell_type": "markdown",
   "metadata": {},
   "source": [
    "#### y2"
   ]
  },
  {
   "cell_type": "code",
   "execution_count": 11,
   "metadata": {},
   "outputs": [
    {
     "data": {
      "image/png": "[encoded data removed]",
      "text/plain": [
       "<Figure size 432x288 with 1 Axes>"
      ]
     },
     "metadata": {},
     "output_type": "display_data"
    }
   ],
   "source": [
    "sns.set(style=\"whitegrid\", context=\"notebook\")\n",
    "plt.scatter(y2_train_pred, y2_train_pred - y2_train,\n",
    "            c=\"blue\", marker=\"o\", label=\"Training\")\n",
    "plt.scatter(y2_test_pred, y2_test_pred - y2_test,\n",
    "            c=\"lightgreen\", marker=\"s\", label=\"Test\")\n",
    "plt.xlabel(\"Prediced values\")\n",
    "plt.ylabel(\"Residuals\")\n",
    "plt.legend()\n",
    "plt.hlines(y=0, xmin=0,xmax=50, lw=2, color=\"red\")\n",
    "plt.show()"
   ]
  },
  {
   "cell_type": "code",
   "execution_count": 12,
   "metadata": {},
   "outputs": [
    {
     "name": "stdout",
     "output_type": "stream",
     "text": [
      "MSE train: 12.389, test: 13.452\n"
     ]
    }
   ],
   "source": [
    "from sklearn.metrics import mean_squared_error as mse\n",
    "\n",
    "print(\"MSE train: %.3f, test: %.3f\" % (mse(y2_train, y2_train_pred), mse(y2_test, y2_test_pred)))"
   ]
  },
  {
   "cell_type": "markdown",
   "metadata": {},
   "source": [
    "### Analysis and Expwriment(m=2)\n",
    "Next,I try basis function's parameter m=2."
   ]
  },
  {
   "cell_type": "code",
   "execution_count": 13,
   "metadata": {},
   "outputs": [
    {
     "ename": "LinAlgError",
     "evalue": "Singular matrix",
     "output_type": "error",
     "traceback": [
      "\u001b[0;31m---------------------------------------------------------------------------\u001b[0m",
      "\u001b[0;31mLinAlgError\u001b[0m                               Traceback (most recent call last)",
      "\u001b[0;32m<ipython-input-13-a75d7102b2da>\u001b[0m in \u001b[0;36m<module>\u001b[0;34m\u001b[0m\n\u001b[1;32m     17\u001b[0m \u001b[0;31m# regression model\u001b[0m\u001b[0;34m\u001b[0m\u001b[0;34m\u001b[0m\u001b[0;34m\u001b[0m\u001b[0m\n\u001b[1;32m     18\u001b[0m \u001b[0mregressionModel\u001b[0m \u001b[0;34m=\u001b[0m \u001b[0mLinearRegression\u001b[0m\u001b[0;34m(\u001b[0m\u001b[0mbasisFunction\u001b[0m\u001b[0;34m)\u001b[0m\u001b[0;34m\u001b[0m\u001b[0;34m\u001b[0m\u001b[0m\n\u001b[0;32m---> 19\u001b[0;31m \u001b[0mregressionModel\u001b[0m\u001b[0;34m.\u001b[0m\u001b[0mfittingW\u001b[0m\u001b[0;34m(\u001b[0m\u001b[0mX_train\u001b[0m\u001b[0;34m,\u001b[0m \u001b[0mY_train\u001b[0m\u001b[0;34m)\u001b[0m\u001b[0;34m\u001b[0m\u001b[0;34m\u001b[0m\u001b[0m\n\u001b[0m\u001b[1;32m     20\u001b[0m \u001b[0;34m\u001b[0m\u001b[0m\n\u001b[1;32m     21\u001b[0m \u001b[0;31m# predicting\u001b[0m\u001b[0;34m\u001b[0m\u001b[0;34m\u001b[0m\u001b[0;34m\u001b[0m\u001b[0m\n",
      "\u001b[0;32m<ipython-input-4-ad88af453406>\u001b[0m in \u001b[0;36mfittingW\u001b[0;34m(self, X, y)\u001b[0m\n\u001b[1;32m     14\u001b[0m         \u001b[0mTransM\u001b[0m \u001b[0;34m=\u001b[0m \u001b[0mdesignMatrix\u001b[0m\u001b[0;34m.\u001b[0m\u001b[0mT\u001b[0m\u001b[0;34m\u001b[0m\u001b[0;34m\u001b[0m\u001b[0m\n\u001b[1;32m     15\u001b[0m         \u001b[0mMultiM\u001b[0m\u001b[0;34m=\u001b[0m\u001b[0mnp\u001b[0m\u001b[0;34m.\u001b[0m\u001b[0mdot\u001b[0m\u001b[0;34m(\u001b[0m\u001b[0mTransM\u001b[0m\u001b[0;34m,\u001b[0m\u001b[0mdesignMatrix\u001b[0m\u001b[0;34m)\u001b[0m\u001b[0;34m\u001b[0m\u001b[0;34m\u001b[0m\u001b[0m\n\u001b[0;32m---> 16\u001b[0;31m         \u001b[0mInvM\u001b[0m\u001b[0;34m=\u001b[0m\u001b[0mnp\u001b[0m\u001b[0;34m.\u001b[0m\u001b[0mlinalg\u001b[0m\u001b[0;34m.\u001b[0m\u001b[0minv\u001b[0m\u001b[0;34m(\u001b[0m\u001b[0mMultiM\u001b[0m\u001b[0;34m)\u001b[0m\u001b[0;34m\u001b[0m\u001b[0;34m\u001b[0m\u001b[0m\n\u001b[0m\u001b[1;32m     17\u001b[0m \u001b[0;34m\u001b[0m\u001b[0m\n\u001b[1;32m     18\u001b[0m         \u001b[0mpsd_inv\u001b[0m \u001b[0;34m=\u001b[0m \u001b[0mnp\u001b[0m\u001b[0;34m.\u001b[0m\u001b[0mdot\u001b[0m\u001b[0;34m(\u001b[0m\u001b[0mInvM\u001b[0m\u001b[0;34m,\u001b[0m \u001b[0mTransM\u001b[0m\u001b[0;34m)\u001b[0m\u001b[0;31m#擬似逆行列\u001b[0m\u001b[0;34m\u001b[0m\u001b[0;34m\u001b[0m\u001b[0m\n",
      "\u001b[0;32m~/anaconda3/lib/python3.7/site-packages/numpy/linalg/linalg.py\u001b[0m in \u001b[0;36minv\u001b[0;34m(a)\u001b[0m\n\u001b[1;32m    549\u001b[0m     \u001b[0msignature\u001b[0m \u001b[0;34m=\u001b[0m \u001b[0;34m'D->D'\u001b[0m \u001b[0;32mif\u001b[0m \u001b[0misComplexType\u001b[0m\u001b[0;34m(\u001b[0m\u001b[0mt\u001b[0m\u001b[0;34m)\u001b[0m \u001b[0;32melse\u001b[0m \u001b[0;34m'd->d'\u001b[0m\u001b[0;34m\u001b[0m\u001b[0;34m\u001b[0m\u001b[0m\n\u001b[1;32m    550\u001b[0m     \u001b[0mextobj\u001b[0m \u001b[0;34m=\u001b[0m \u001b[0mget_linalg_error_extobj\u001b[0m\u001b[0;34m(\u001b[0m\u001b[0m_raise_linalgerror_singular\u001b[0m\u001b[0;34m)\u001b[0m\u001b[0;34m\u001b[0m\u001b[0;34m\u001b[0m\u001b[0m\n\u001b[0;32m--> 551\u001b[0;31m     \u001b[0mainv\u001b[0m \u001b[0;34m=\u001b[0m \u001b[0m_umath_linalg\u001b[0m\u001b[0;34m.\u001b[0m\u001b[0minv\u001b[0m\u001b[0;34m(\u001b[0m\u001b[0ma\u001b[0m\u001b[0;34m,\u001b[0m \u001b[0msignature\u001b[0m\u001b[0;34m=\u001b[0m\u001b[0msignature\u001b[0m\u001b[0;34m,\u001b[0m \u001b[0mextobj\u001b[0m\u001b[0;34m=\u001b[0m\u001b[0mextobj\u001b[0m\u001b[0;34m)\u001b[0m\u001b[0;34m\u001b[0m\u001b[0;34m\u001b[0m\u001b[0m\n\u001b[0m\u001b[1;32m    552\u001b[0m     \u001b[0;32mreturn\u001b[0m \u001b[0mwrap\u001b[0m\u001b[0;34m(\u001b[0m\u001b[0mainv\u001b[0m\u001b[0;34m.\u001b[0m\u001b[0mastype\u001b[0m\u001b[0;34m(\u001b[0m\u001b[0mresult_t\u001b[0m\u001b[0;34m,\u001b[0m \u001b[0mcopy\u001b[0m\u001b[0;34m=\u001b[0m\u001b[0;32mFalse\u001b[0m\u001b[0;34m)\u001b[0m\u001b[0;34m)\u001b[0m\u001b[0;34m\u001b[0m\u001b[0;34m\u001b[0m\u001b[0m\n\u001b[1;32m    553\u001b[0m \u001b[0;34m\u001b[0m\u001b[0m\n",
      "\u001b[0;32m~/anaconda3/lib/python3.7/site-packages/numpy/linalg/linalg.py\u001b[0m in \u001b[0;36m_raise_linalgerror_singular\u001b[0;34m(err, flag)\u001b[0m\n\u001b[1;32m     95\u001b[0m \u001b[0;34m\u001b[0m\u001b[0m\n\u001b[1;32m     96\u001b[0m \u001b[0;32mdef\u001b[0m \u001b[0m_raise_linalgerror_singular\u001b[0m\u001b[0;34m(\u001b[0m\u001b[0merr\u001b[0m\u001b[0;34m,\u001b[0m \u001b[0mflag\u001b[0m\u001b[0;34m)\u001b[0m\u001b[0;34m:\u001b[0m\u001b[0;34m\u001b[0m\u001b[0;34m\u001b[0m\u001b[0m\n\u001b[0;32m---> 97\u001b[0;31m     \u001b[0;32mraise\u001b[0m \u001b[0mLinAlgError\u001b[0m\u001b[0;34m(\u001b[0m\u001b[0;34m\"Singular matrix\"\u001b[0m\u001b[0;34m)\u001b[0m\u001b[0;34m\u001b[0m\u001b[0;34m\u001b[0m\u001b[0m\n\u001b[0m\u001b[1;32m     98\u001b[0m \u001b[0;34m\u001b[0m\u001b[0m\n\u001b[1;32m     99\u001b[0m \u001b[0;32mdef\u001b[0m \u001b[0m_raise_linalgerror_nonposdef\u001b[0m\u001b[0;34m(\u001b[0m\u001b[0merr\u001b[0m\u001b[0;34m,\u001b[0m \u001b[0mflag\u001b[0m\u001b[0;34m)\u001b[0m\u001b[0;34m:\u001b[0m\u001b[0;34m\u001b[0m\u001b[0;34m\u001b[0m\u001b[0m\n",
      "\u001b[0;31mLinAlgError\u001b[0m: Singular matrix"
     ]
    }
   ],
   "source": [
    "#dataのnp.arrayとしての取り出し\n",
    "X = df[[\"X1\", \"X2\", \"X3\", \"X4\", \"X5\", \"X6\", \"X7\", \"X8\"]].values\n",
    "Y = df[[\"Y1\",\"Y2\"]].values\n",
    "\n",
    "# 標準化\n",
    "sc_x = StandardScaler()\n",
    "sc_y = StandardScaler()\n",
    "X_std = sc_x.fit_transform(X)\n",
    "Y_std = sc_y.fit_transform(Y)\n",
    "\n",
    "# 学習用データとテスト用データに分割\n",
    "X_train, X_test, Y_train, Y_test = train_test_split(X_std, Y_std, test_size=0.2, random_state=0)\n",
    "\n",
    "#basisFunction\n",
    "basisFunction=PolynomialBasisFunction(2)\n",
    "\n",
    "# regression model \n",
    "regressionModel = LinearRegression(basisFunction)\n",
    "regressionModel.fittingW(X_train, Y_train)\n",
    "\n",
    "# predicting\n",
    "Y_train_pred = regressionModel.predictY(X_train)\n",
    "Y_test_pred = regressionModel.predictY(X_test)\n",
    "\n",
    "#標準化を戻す\n",
    "temp=sc_y\n",
    "Y_train = sc_y.inverse_transform(Y_train)\n",
    "sc_y=temp\n",
    "Y_test = sc_y.inverse_transform(Y_test)\n",
    "sc_y=temp\n",
    "Y_train_pred = sc_y.inverse_transform(Y_train_pred)\n",
    "sc_y=temp\n",
    "Y_test_pred = sc_y.inverse_transform(Y_test_pred)\n",
    "\n",
    "\n",
    "y1_train=(Y_train.T[0]).T\n",
    "y2_train=(Y_train.T[1]).T\n",
    "y1_test=(Y_test.T[0]).T\n",
    "y2_test=(Y_test.T[1]).T\n",
    "y1_train_pred=(Y_train_pred.T[0]).T\n",
    "y2_train_pred=(Y_train_pred.T[1]).T\n",
    "y1_test_pred=(Y_test_pred.T[0]).T\n",
    "y2_test_pred=(Y_test_pred.T[1]).T"
   ]
  },
  {
   "cell_type": "markdown",
   "metadata": {},
   "source": [
    "#### y1"
   ]
  },
  {
   "cell_type": "code",
   "execution_count": 14,
   "metadata": {},
   "outputs": [
    {
     "data": {
      "image/png": "[encoded data removed]",
      "text/plain": [
       "<Figure size 432x288 with 1 Axes>"
      ]
     },
     "metadata": {},
     "output_type": "display_data"
    }
   ],
   "source": [
    "sns.set(style=\"whitegrid\", context=\"notebook\")\n",
    "plt.scatter(y1_train_pred, y1_train_pred - y1_train,\n",
    "            c=\"blue\", marker=\"o\", label=\"Training\")\n",
    "plt.scatter(y1_test_pred, y1_test_pred - y1_test,\n",
    "            c=\"lightgreen\", marker=\"s\", label=\"Test\")\n",
    "plt.xlabel(\"Prediced values y1\")\n",
    "plt.ylabel(\"Residuals y1\")\n",
    "plt.legend()\n",
    "plt.hlines(y=0, xmin=0, xmax=50, lw=2, color=\"red\")\n",
    "plt.show()"
   ]
  },
  {
   "cell_type": "code",
   "execution_count": 15,
   "metadata": {},
   "outputs": [
    {
     "name": "stdout",
     "output_type": "stream",
     "text": [
      "MSE train: 10.724, test: 12.517\n"
     ]
    }
   ],
   "source": [
    "from sklearn.metrics import mean_squared_error as mse\n",
    "\n",
    "print(\"MSE train: %.3f, test: %.3f\" % (mse(y1_train, y1_train_pred), mse(y1_test, y1_test_pred)))"
   ]
  },
  {
   "cell_type": "markdown",
   "metadata": {},
   "source": [
    "### y2"
   ]
  },
  {
   "cell_type": "code",
   "execution_count": 16,
   "metadata": {},
   "outputs": [
    {
     "data": {
      "image/png": "[encoded data removed]",
      "text/plain": [
       "<Figure size 432x288 with 1 Axes>"
      ]
     },
     "metadata": {},
     "output_type": "display_data"
    }
   ],
   "source": [
    "sns.set(style=\"whitegrid\", context=\"notebook\")\n",
    "plt.scatter(y2_train_pred, y2_train_pred - y2_train,\n",
    "            c=\"blue\", marker=\"o\", label=\"Training\")\n",
    "plt.scatter(y2_test_pred, y2_test_pred - y2_test,\n",
    "            c=\"lightgreen\", marker=\"s\", label=\"Test\")\n",
    "plt.xlabel(\"Prediced values\")\n",
    "plt.ylabel(\"Residuals\")\n",
    "plt.legend()\n",
    "plt.hlines(y=0, xmin=0,xmax=50, lw=2, color=\"red\")\n",
    "plt.show()"
   ]
  },
  {
   "cell_type": "code",
   "execution_count": 17,
   "metadata": {},
   "outputs": [
    {
     "name": "stdout",
     "output_type": "stream",
     "text": [
      "MSE train: 12.389, test: 13.452\n"
     ]
    }
   ],
   "source": [
    "from sklearn.metrics import mean_squared_error as mse\n",
    "\n",
    "print(\"MSE train: %.3f, test: %.3f\" % (mse(y2_train, y2_train_pred), mse(y2_test, y2_test_pred)))"
   ]
  },
  {
   "cell_type": "markdown",
   "metadata": {},
   "source": [
    "## coment\n",
    "According to MSE data below, clearly m=1 model is better than m=2 one. It may be caused by overfitting, because the number of data is relatively few, and as m get bigger, the complexity of this model (the dimenssion of basis function : M) increase drasticaly. \n",
    "\n",
    "m=1   \n",
    "MSE train: 8.415, test: 10.822\n",
    "\n",
    "m=2  \n",
    "MSE train: 141073366089532411215872.000, test: 156393509577783081172992.000"
   ]
  },
  {
   "cell_type": "markdown",
   "metadata": {},
   "source": [
    "## Additional Research : Gaussian Basis Function\n",
    "I try to change basis function polynominal to Gaussian.\n",
    "Newly we define GaussianBasisFunction class.\n",
    "This research is for only y1.\n",
    "Now, I  use $m$ dimessional <span style=\"color: red; \"> Gaussian basis function,</span> \n",
    "    so $\\boldsymbol{\\phi}(\\boldsymbol{x})$ is that\n",
    "    \n",
    "$$\\boldsymbol{\\phi}=\\left(1,\\phi_{1,1},\\phi_{1,2} ,\\ldots, \\phi_{1,m},\\phi_{2,1},\\ldots,\\phi_{2,m},\\phi_{3,1},\\ldots,x_{D,m}\\right)^{\\top}$$\n",
    "\n",
    "where\n",
    "$${\\phi}_{i,j}=\\exp \\left[-\\frac{\\left(x_i-\\mu_{j}\\right)^{2}}{2 s^{2}}\\right]$$"
   ]
  },
  {
   "cell_type": "code",
   "execution_count": 18,
   "metadata": {},
   "outputs": [],
   "source": [
    "class GaussianBasisFunction:\n",
    "    def __init__(self,m):\n",
    "        self.s2=1\n",
    "        self.m=m\n",
    "        \n",
    "    def getphi(self,x):\n",
    "        mu=np.arange(self.m)\n",
    "        mu=mu/self.m\n",
    "        self.phi=np.ones(self.m*x.shape[0]+1)\n",
    "        for i in range(x.shape[0]):\n",
    "            for j in range (self.m):\n",
    "                self.phi[i*self.m+j+1]= np.exp(-(x[i]-mu[j])*(x[i]-mu[j])/(2*self.s2))\n",
    "                \n",
    "        return self.phi\n",
    "    \n",
    "    def getm(self):\n",
    "        return self.m"
   ]
  },
  {
   "cell_type": "markdown",
   "metadata": {},
   "source": [
    "### m=3, y1"
   ]
  },
  {
   "cell_type": "code",
   "execution_count": 19,
   "metadata": {},
   "outputs": [],
   "source": [
    "#dataのnp.arrayとしての取り出し\n",
    "X = df[[\"X1\", \"X2\", \"X3\", \"X4\", \"X5\", \"X6\", \"X7\", \"X8\"]].values\n",
    "Y = df[[\"Y1\",\"Y2\"]].values\n",
    "\n",
    "# 標準化\n",
    "sc_x = StandardScaler()\n",
    "sc_y = StandardScaler()\n",
    "X_std = sc_x.fit_transform(X)\n",
    "Y_std = sc_y.fit_transform(Y)\n",
    "\n",
    "# 学習用データとテスト用データに分割\n",
    "X_train, X_test, Y_train, Y_test = train_test_split(X_std, Y_std, test_size=0.2, random_state=0)\n",
    "\n",
    "#basisFunction\n",
    "basisFunction=GaussianBasisFunction(3)\n",
    "\n",
    "# regression model \n",
    "regressionModel = LinearRegression(basisFunction)\n",
    "regressionModel.fittingW(X_train, Y_train)\n",
    "\n",
    "# predicting\n",
    "Y_train_pred = regressionModel.predictY(X_train)\n",
    "Y_test_pred = regressionModel.predictY(X_test)\n",
    "\n",
    "#標準化を戻す\n",
    "temp=sc_y\n",
    "Y_train = sc_y.inverse_transform(Y_train)\n",
    "sc_y=temp\n",
    "Y_test = sc_y.inverse_transform(Y_test)\n",
    "sc_y=temp\n",
    "Y_train_pred = sc_y.inverse_transform(Y_train_pred)\n",
    "sc_y=temp\n",
    "Y_test_pred = sc_y.inverse_transform(Y_test_pred)\n",
    "\n",
    "\n",
    "y1_train=(Y_train.T[0]).T\n",
    "\n",
    "y1_test=(Y_test.T[0]).T\n",
    "\n",
    "y1_train_pred=(Y_train_pred.T[0]).T\n",
    "\n",
    "y1_test_pred=(Y_test_pred.T[0]).T\n"
   ]
  },
  {
   "cell_type": "code",
   "execution_count": 20,
   "metadata": {},
   "outputs": [
    {
     "data": {
      "image/png": "[encoded data removed]",
      "text/plain": [
       "<Figure size 432x288 with 1 Axes>"
      ]
     },
     "metadata": {},
     "output_type": "display_data"
    }
   ],
   "source": [
    "sns.set(style=\"whitegrid\", context=\"notebook\")\n",
    "plt.scatter(y1_train_pred, y1_train_pred - y1_train,\n",
    "            c=\"blue\", marker=\"o\", label=\"Training\")\n",
    "plt.scatter(y1_test_pred, y1_test_pred - y1_test,\n",
    "            c=\"lightgreen\", marker=\"s\", label=\"Test\")\n",
    "plt.xlabel(\"Prediced values y1\")\n",
    "plt.ylabel(\"Residuals y1\")\n",
    "plt.legend()\n",
    "plt.hlines(y=0, xmin=0, xmax=50, lw=2, color=\"red\")\n",
    "plt.show()"
   ]
  },
  {
   "cell_type": "code",
   "execution_count": 21,
   "metadata": {},
   "outputs": [
    {
     "name": "stdout",
     "output_type": "stream",
     "text": [
      "MSE train: 44.009, test: 41.348\n"
     ]
    }
   ],
   "source": [
    "from sklearn.metrics import mean_squared_error as mse\n",
    "\n",
    "print(\"MSE train: %.3f, test: %.3f\" % (mse(y1_train, y1_train_pred), mse(y1_test, y1_test_pred)))"
   ]
  },
  {
   "cell_type": "markdown",
   "metadata": {},
   "source": [
    "### coment\n",
    "Seeing the result, regression by Gaussian basis function exceeds any polynomial regression so far.\n",
    "\n",
    "### Change of MSE for m\n",
    "I visualize the changing of MSE as the parameter m (complexity of model) increases.\n",
    "\n"
   ]
  },
  {
   "cell_type": "code",
   "execution_count": 22,
   "metadata": {},
   "outputs": [],
   "source": [
    "M = 20# max model complexity to search\n",
    "mse_train = []\n",
    "mse_test = []\n",
    "\n",
    "for m in range(M):\n",
    "    X = df[[\"X1\", \"X2\", \"X3\", \"X4\", \"X5\", \"X6\", \"X7\", \"X8\"]].values\n",
    "    Y = df[[\"Y1\",\"Y2\"]].values\n",
    "    \n",
    "    # 標準化\n",
    "    sc_x = StandardScaler()\n",
    "    sc_y = StandardScaler()\n",
    "    X_std = sc_x.fit_transform(X)\n",
    "    Y_std = sc_y.fit_transform(Y)\n",
    "\n",
    "    # 学習用データとテスト用データに分割\n",
    "    X_train, X_test, Y_train, Y_test = train_test_split(X_std, Y_std, test_size=0.2, random_state=0)\n",
    "\n",
    "    #basisFunction\n",
    "    basisFunction=GaussianBasisFunction(m)\n",
    "\n",
    "    # regression model \n",
    "    regressionModel = LinearRegression(basisFunction)\n",
    "    regressionModel.fittingW(X_train, Y_train)\n",
    "\n",
    "    # predicting\n",
    "    Y_train_pred = regressionModel.predictY(X_train)\n",
    "    Y_test_pred = regressionModel.predictY(X_test)\n",
    "\n",
    "    #標準化を戻す\n",
    "    temp=sc_y\n",
    "    Y_train = sc_y.inverse_transform(Y_train)\n",
    "    sc_y=temp\n",
    "    Y_test = sc_y.inverse_transform(Y_test)\n",
    "    sc_y=temp\n",
    "    Y_train_pred = sc_y.inverse_transform(Y_train_pred)\n",
    "    sc_y=temp\n",
    "    Y_test_pred = sc_y.inverse_transform(Y_test_pred)\n",
    "    \n",
    "    y1_train=(Y_train.T[0]).T\n",
    "   \n",
    "    y1_test=(Y_test.T[0]).T\n",
    "    \n",
    "    y1_train_pred=(Y_train_pred.T[0]).T\n",
    "    \n",
    "    y1_test_pred=(Y_test_pred.T[0]).T\n",
    "    \n",
    "    \n",
    "    # the MSE is recoded\n",
    "    mse_train.append(mse(y1_train, y1_train_pred))\n",
    "    mse_test.append(mse(y1_test, y1_test_pred))\n",
    "    \n",
    "    "
   ]
  },
  {
   "cell_type": "code",
   "execution_count": 23,
   "metadata": {},
   "outputs": [
    {
     "data": {
      "image/png": "[encoded data removed]",
      "text/plain": [
       "<Figure size 432x288 with 1 Axes>"
      ]
     },
     "metadata": {},
     "output_type": "display_data"
    }
   ],
   "source": [
    "fig = plt.figure()\n",
    "ax =fig.add_subplot(111)\n",
    "ax.plot(range(len(mse_train)), np.log(mse_train), label=\"training data\")\n",
    "ax.plot(range(len(mse_test)), np.log(mse_test), label=\"test data\")\n",
    "ax.set_xlabel(\"model complexity\")\n",
    "ax.set_ylabel(\"log(MSE)\")\n",
    "plt.legend()\n",
    "plt.show()"
   ]
  },
  {
   "cell_type": "markdown",
   "metadata": {},
   "source": [
    "## Conclusion\n",
    "This graph and these researches shows that complexity sometimes make regression model worse, and a model have the best degree of complexity for its own.\n",
    "It can be also said that, in linear regression model, according to the data treationg, its accuracy depends so much on basis function."
   ]
  }
 ],
 "metadata": {
  "kernelspec": {
   "display_name": "Python 3",
   "language": "python",
   "name": "python3"
  },
  "language_info": {
   "codemirror_mode": {
    "name": "ipython",
    "version": 3
   },
   "file_extension": ".py",
   "mimetype": "text/x-python",
   "name": "python",
   "nbconvert_exporter": "python",
   "pygments_lexer": "ipython3",
   "version": "3.7.3"
  }
 },
 "nbformat": 4,
 "nbformat_minor": 2
}
